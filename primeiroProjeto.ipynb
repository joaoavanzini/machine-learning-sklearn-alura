{
  "nbformat": 4,
  "nbformat_minor": 0,
  "metadata": {
    "colab": {
      "name": "primeiroProjeto",
      "provenance": [],
      "collapsed_sections": [],
      "authorship_tag": "ABX9TyOOmlDdowCZXu3usSSBZUzY",
      "include_colab_link": true
    },
    "kernelspec": {
      "name": "python3",
      "display_name": "Python 3"
    }
  },
  "cells": [
    {
      "cell_type": "markdown",
      "metadata": {
        "id": "view-in-github",
        "colab_type": "text"
      },
      "source": [
        "<a href=\"https://colab.research.google.com/github/vicpb/machine-learning-alura/blob/main/primeiroProjeto.ipynb\" target=\"_parent\"><img src=\"https://colab.research.google.com/assets/colab-badge.svg\" alt=\"Open In Colab\"/></a>"
      ]
    },
    {
      "cell_type": "code",
      "metadata": {
        "id": "MFPLQ9Bavr3X"
      },
      "source": [
        "#aprendendo a classificar entre porco e cachorro -> 0 ou 1"
      ],
      "execution_count": 2,
      "outputs": []
    }
  ]
}