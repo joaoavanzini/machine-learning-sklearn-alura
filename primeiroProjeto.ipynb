{
  "nbformat": 4,
  "nbformat_minor": 0,
  "metadata": {
    "colab": {
      "name": "primeiroProjeto",
      "provenance": [],
      "collapsed_sections": [],
      "authorship_tag": "ABX9TyPHbS5c+Rmu9pz7URhy2tk5",
      "include_colab_link": true
    },
    "kernelspec": {
      "name": "python3",
      "display_name": "Python 3"
    }
  },
  "cells": [
    {
      "cell_type": "markdown",
      "metadata": {
        "id": "view-in-github",
        "colab_type": "text"
      },
      "source": [
        "<a href=\"https://colab.research.google.com/github/vicpb/machine-learning-alura/blob/main/primeiroProjeto.ipynb\" target=\"_parent\"><img src=\"https://colab.research.google.com/assets/colab-badge.svg\" alt=\"Open In Colab\"/></a>"
      ]
    },
    {
      "cell_type": "code",
      "metadata": {
        "id": "MFPLQ9Bavr3X"
      },
      "source": [
        "# aprendendo a classificar entre porco e cachorro -> 0 ou 1\r\n",
        "\r\n",
        "# 0: cão\r\n",
        "# 1: porco\r\n",
        "\r\n",
        "# este aprendizado de máquina estará baseando-se em features (caracteristicas) e a classificação\r\n",
        "\r\n",
        "# utilizando scikit-learn"
      ],
      "execution_count": 2,
      "outputs": []
    },
    {
      "cell_type": "code",
      "metadata": {
        "id": "IqZRDfdhyZZo"
      },
      "source": [
        "# features\r\n",
        "\r\n",
        "# pelo longo? 0 ou 1\r\n",
        "# perna curta? 0 ou 1\r\n",
        "# au au? 0 ou 1\r\n",
        "\r\n",
        "porco1 = [0, 1, 0]\r\n",
        "porco2 = [0, 1, 1]\r\n",
        "porco3 = [1, 1, 0]\r\n",
        "\r\n",
        "cachorro1 = [0, 1, 1]\r\n",
        "cachorro2 = [1, 0, 1]\r\n",
        "cachorro3 = [1, 1, 1]\r\n",
        "\r\n",
        "# 1 => porco, 0 => cachorro\r\n",
        "dados = [porco1, porco2, porco3, cachorro1, cachorro2, cachorro3]\r\n",
        "classes = [1, 1, 1, 0, 0, 0]"
      ],
      "execution_count": 6,
      "outputs": []
    },
    {
      "cell_type": "code",
      "metadata": {
        "colab": {
          "base_uri": "https://localhost:8080/"
        },
        "id": "moVZwLkXz8fU",
        "outputId": "21884201-c756-4224-dae1-d7d8adc24f88"
      },
      "source": [
        "from sklearn.svm import LinearSVC\r\n",
        "\r\n",
        "model = LinearSVC()\r\n",
        "model.fit(dados, classes)"
      ],
      "execution_count": 7,
      "outputs": [
        {
          "output_type": "execute_result",
          "data": {
            "text/plain": [
              "LinearSVC(C=1.0, class_weight=None, dual=True, fit_intercept=True,\n",
              "          intercept_scaling=1, loss='squared_hinge', max_iter=1000,\n",
              "          multi_class='ovr', penalty='l2', random_state=None, tol=0.0001,\n",
              "          verbose=0)"
            ]
          },
          "metadata": {
            "tags": []
          },
          "execution_count": 7
        }
      ]
    },
    {
      "cell_type": "code",
      "metadata": {
        "colab": {
          "base_uri": "https://localhost:8080/"
        },
        "id": "NDtl70nc0eRZ",
        "outputId": "59821d1f-eb83-4533-9bf6-f169397335d7"
      },
      "source": [
        "animal_misterioso = [1, 1, 1]\r\n",
        "model.predict([animal_misterioso]) # uma lista com 1 item - .predict espera mais de 1 item, então transformamos a lista em 1 item :)"
      ],
      "execution_count": 9,
      "outputs": [
        {
          "output_type": "execute_result",
          "data": {
            "text/plain": [
              "array([0])"
            ]
          },
          "metadata": {
            "tags": []
          },
          "execution_count": 9
        }
      ]
    },
    {
      "cell_type": "code",
      "metadata": {
        "id": "UykfAAIn0nVY"
      },
      "source": [
        "misterio1 = [1, 1, 1]\r\n",
        "misterio2 = [1, 1, 0]\r\n",
        "misterio3 = [0, 1, 1]\r\n",
        "\r\n",
        "testes = [misterio1, misterio2, misterio3]\r\n",
        "previsoes = model.predict(testes)"
      ],
      "execution_count": 12,
      "outputs": []
    },
    {
      "cell_type": "code",
      "metadata": {
        "id": "TnFd9B_91FFu"
      },
      "source": [
        "testes_classes = [0, 1, 1]"
      ],
      "execution_count": 13,
      "outputs": []
    },
    {
      "cell_type": "code",
      "metadata": {
        "colab": {
          "base_uri": "https://localhost:8080/"
        },
        "id": "bWPDoJLJ1hf4",
        "outputId": "18dea898-0701-4b77-9040-43b358e18e4a"
      },
      "source": [
        "corretos = (previsoes == testes_classes).sum()\r\n",
        "total = len(testes)\r\n",
        "taxa_de_acerto = corretos/total\r\n",
        "print(\"Taxa de acerto: \", taxa_de_acerto * 100)"
      ],
      "execution_count": 22,
      "outputs": [
        {
          "output_type": "stream",
          "text": [
            "Taxa de acerto:  66.66666666666666\n"
          ],
          "name": "stdout"
        }
      ]
    },
    {
      "cell_type": "code",
      "metadata": {
        "colab": {
          "base_uri": "https://localhost:8080/"
        },
        "id": "WkVQPKYo1jYk",
        "outputId": "8ebdf076-8094-4c02-a408-fd863981cdc0"
      },
      "source": [
        "from sklearn.metrics import accuracy_score\r\n",
        "\r\n",
        "taxa_de_acerto = accuracy_score(testes_classes, previsoes)\r\n",
        "print(\"Taxa de acerto: \", taxa_de_acerto * 100)"
      ],
      "execution_count": 24,
      "outputs": [
        {
          "output_type": "stream",
          "text": [
            "Taxa de acerto:  66.66666666666666\n"
          ],
          "name": "stdout"
        }
      ]
    },
    {
      "cell_type": "code",
      "metadata": {
        "id": "B3SEoKG65X2R"
      },
      "source": [
        ""
      ],
      "execution_count": null,
      "outputs": []
    }
  ]
}