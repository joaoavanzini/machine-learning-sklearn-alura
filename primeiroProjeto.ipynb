{
  "nbformat": 4,
  "nbformat_minor": 0,
  "metadata": {
    "colab": {
      "name": "primeiroProjeto",
      "provenance": [],
      "collapsed_sections": [],
      "authorship_tag": "ABX9TyNiIOGRnqX5p9RLytXvhw5e",
      "include_colab_link": true
    },
    "kernelspec": {
      "name": "python3",
      "display_name": "Python 3"
    }
  },
  "cells": [
    {
      "cell_type": "markdown",
      "metadata": {
        "id": "view-in-github",
        "colab_type": "text"
      },
      "source": [
        "<a href=\"https://colab.research.google.com/github/vicpb/machine-learning-alura/blob/main/primeiroProjeto.ipynb\" target=\"_parent\"><img src=\"https://colab.research.google.com/assets/colab-badge.svg\" alt=\"Open In Colab\"/></a>"
      ]
    },
    {
      "cell_type": "code",
      "metadata": {
        "id": "MFPLQ9Bavr3X"
      },
      "source": [
        "# aprendendo a classificar entre porco e cachorro -> 0 ou 1\r\n",
        "\r\n",
        "# 0: cão\r\n",
        "# 1: porco\r\n",
        "\r\n",
        "# este aprendizado de máquina estará baseando-se em features (caracteristicas) e a classificação\r\n",
        "\r\n",
        "# utilizando scikit-learn"
      ],
      "execution_count": 1,
      "outputs": []
    },
    {
      "cell_type": "code",
      "metadata": {
        "id": "IqZRDfdhyZZo"
      },
      "source": [
        "# features\r\n",
        "\r\n",
        "# pelo longo? 0 ou 1\r\n",
        "# perna curta? 0 ou 1\r\n",
        "# au au? 0 ou 1\r\n",
        "\r\n",
        "porco1 = [0, 1, 0]\r\n",
        "porco2 = [0, 1, 1]\r\n",
        "porco3 = [1, 1, 0]\r\n",
        "\r\n",
        "cachorro1 = [0, 1, 1]\r\n",
        "cachorro2 = [1, 0, 1]\r\n",
        "cachorro3 = [1, 1, 1]\r\n",
        "\r\n",
        "# 1 => porco, 0 => cachorro\r\n",
        "treino_x = [porco1, porco2, porco3, cachorro1, cachorro2, cachorro3]\r\n",
        "treino_y = [1, 1, 1, 0, 0, 0] # labels / etiqueta"
      ],
      "execution_count": 2,
      "outputs": []
    },
    {
      "cell_type": "code",
      "metadata": {
        "colab": {
          "base_uri": "https://localhost:8080/"
        },
        "id": "moVZwLkXz8fU",
        "outputId": "2af831be-9e6a-4a81-d3da-251fd3331d7a"
      },
      "source": [
        "from sklearn.svm import LinearSVC\r\n",
        "\r\n",
        "model = LinearSVC()\r\n",
        "model.fit(treino_x, treino_y)"
      ],
      "execution_count": 3,
      "outputs": [
        {
          "output_type": "execute_result",
          "data": {
            "text/plain": [
              "LinearSVC(C=1.0, class_weight=None, dual=True, fit_intercept=True,\n",
              "          intercept_scaling=1, loss='squared_hinge', max_iter=1000,\n",
              "          multi_class='ovr', penalty='l2', random_state=None, tol=0.0001,\n",
              "          verbose=0)"
            ]
          },
          "metadata": {
            "tags": []
          },
          "execution_count": 3
        }
      ]
    },
    {
      "cell_type": "code",
      "metadata": {
        "colab": {
          "base_uri": "https://localhost:8080/"
        },
        "id": "NDtl70nc0eRZ",
        "outputId": "5b28d441-3da4-4e44-b2b8-251727cb8690"
      },
      "source": [
        "animal_misterioso = [1, 1, 1]\r\n",
        "model.predict([animal_misterioso]) # uma lista com 1 item - .predict espera mais de 1 item, então transformamos a lista em 1 item :)"
      ],
      "execution_count": 4,
      "outputs": [
        {
          "output_type": "execute_result",
          "data": {
            "text/plain": [
              "array([0])"
            ]
          },
          "metadata": {
            "tags": []
          },
          "execution_count": 4
        }
      ]
    },
    {
      "cell_type": "code",
      "metadata": {
        "id": "UykfAAIn0nVY"
      },
      "source": [
        "misterio1 = [1, 1, 1]\r\n",
        "misterio2 = [1, 1, 0]\r\n",
        "misterio3 = [0, 1, 1]\r\n",
        "\r\n",
        "teste_x = [misterio1, misterio2, misterio3]\r\n",
        "teste_y = [0, 1, 1]"
      ],
      "execution_count": 5,
      "outputs": []
    },
    {
      "cell_type": "code",
      "metadata": {
        "id": "TnFd9B_91FFu"
      },
      "source": [
        "previsoes = model.predict(teste_x)"
      ],
      "execution_count": 6,
      "outputs": []
    },
    {
      "cell_type": "code",
      "metadata": {
        "colab": {
          "base_uri": "https://localhost:8080/"
        },
        "id": "bWPDoJLJ1hf4",
        "outputId": "541eaec9-d5b8-488c-ad62-75c00a7858e9"
      },
      "source": [
        "corretos = (previsoes == teste_y).sum()\r\n",
        "total = len(teste_x)\r\n",
        "taxa_de_acerto = corretos/total\r\n",
        "print(\"Taxa de acerto: %.2f\" % (taxa_de_acerto * 100))"
      ],
      "execution_count": 9,
      "outputs": [
        {
          "output_type": "stream",
          "text": [
            "Taxa de acerto: 66.67\n"
          ],
          "name": "stdout"
        }
      ]
    },
    {
      "cell_type": "code",
      "metadata": {
        "colab": {
          "base_uri": "https://localhost:8080/"
        },
        "id": "WkVQPKYo1jYk",
        "outputId": "8250fe82-acc5-44ea-de24-8b203ebe3e17"
      },
      "source": [
        "from sklearn.metrics import accuracy_score\r\n",
        "\r\n",
        "taxa_de_acerto = accuracy_score(teste_y, previsoes)\r\n",
        "print(\"Taxa de acerto: %.2f\" % (taxa_de_acerto * 100))"
      ],
      "execution_count": 10,
      "outputs": [
        {
          "output_type": "stream",
          "text": [
            "Taxa de acerto: 66.67\n"
          ],
          "name": "stdout"
        }
      ]
    },
    {
      "cell_type": "code",
      "metadata": {
        "id": "B3SEoKG65X2R"
      },
      "source": [
        ""
      ],
      "execution_count": 8,
      "outputs": []
    }
  ]
}